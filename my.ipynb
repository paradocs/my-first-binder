### A Pluto.jl notebook ###
# v0.12.18

using Markdown
using InteractiveUtils

# ╔═╡ 07455d00-5cee-11eb-1a96-05b5f3e6af54
md"""
### Notebook #5

"""

# ╔═╡ 7dc53fea-5cee-11eb-0408-35b0bbd5787f
pwd()



# ╔═╡ a337a66c-5cee-11eb-11a7-8d64d91d6d51
readdir()


# ╔═╡ 056a3354-5cf1-11eb-3621-23bc46c383d1
read("Project.toml", String)

# ╔═╡ f4c0017c-5d32-11eb-22b7-cd1bc5445200
import Pkg

# ╔═╡ 7298a384-5d32-11eb-2eb3-d5c4a679e8a8
Pkg.activate(".")


# ╔═╡ Cell order:
# ╠═07455d00-5cee-11eb-1a96-05b5f3e6af54
# ╠═7dc53fea-5cee-11eb-0408-35b0bbd5787f
# ╠═a337a66c-5cee-11eb-11a7-8d64d91d6d51
# ╠═056a3354-5cf1-11eb-3621-23bc46c383d1
# ╠═f4c0017c-5d32-11eb-22b7-cd1bc5445200
# ╠═7298a384-5d32-11eb-2eb3-d5c4a679e8a8
